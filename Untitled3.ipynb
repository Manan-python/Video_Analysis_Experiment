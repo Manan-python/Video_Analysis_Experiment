{
 "cells": [
  {
   "cell_type": "code",
   "execution_count": 1,
   "id": "b7484c12",
   "metadata": {},
   "outputs": [
    {
     "name": "stderr",
     "output_type": "stream",
     "text": [
      "[nltk_data] Downloading package sentiwordnet to\n",
      "[nltk_data]     C:\\Users\\manan\\AppData\\Roaming\\nltk_data...\n",
      "[nltk_data]   Package sentiwordnet is already up-to-date!\n"
     ]
    }
   ],
   "source": [
    "import nltk\n",
    "from nltk.corpus import wordnet\n",
    "nltk.download('sentiwordnet')\n",
    "from nltk.corpus import sentiwordnet as swn"
   ]
  },
  {
   "cell_type": "code",
   "execution_count": 3,
   "id": "c6012166",
   "metadata": {},
   "outputs": [
    {
     "data": {
      "text/plain": [
       "<SentiWordNetCorpusReader in 'C:\\\\Users\\\\manan\\\\AppData\\\\Roaming\\\\nltk_data\\\\corpora\\\\sentiwordnet'>"
      ]
     },
     "execution_count": 3,
     "metadata": {},
     "output_type": "execute_result"
    }
   ],
   "source": [
    "swn"
   ]
  },
  {
   "cell_type": "code",
   "execution_count": 7,
   "id": "b409bb34",
   "metadata": {},
   "outputs": [],
   "source": [
    "from nrclex import NRCLex\n",
    "import nrclex\n"
   ]
  },
  {
   "cell_type": "code",
   "execution_count": 5,
   "id": "26637275",
   "metadata": {},
   "outputs": [
    {
     "data": {
      "text/plain": [
       "nrclex.NRCLex"
      ]
     },
     "execution_count": 5,
     "metadata": {},
     "output_type": "execute_result"
    }
   ],
   "source": [
    "NRCLex"
   ]
  },
  {
   "cell_type": "code",
   "execution_count": 8,
   "id": "c5393b42",
   "metadata": {},
   "outputs": [
    {
     "data": {
      "text/plain": [
       "<module 'nrclex' from 'C:\\\\Users\\\\manan\\\\anaconda3\\\\lib\\\\site-packages\\\\nrclex.py'>"
      ]
     },
     "execution_count": 8,
     "metadata": {},
     "output_type": "execute_result"
    }
   ],
   "source": [
    "nrclex"
   ]
  },
  {
   "cell_type": "code",
   "execution_count": null,
   "id": "91b53479",
   "metadata": {},
   "outputs": [],
   "source": []
  }
 ],
 "metadata": {
  "kernelspec": {
   "display_name": "Python 3 (ipykernel)",
   "language": "python",
   "name": "python3"
  },
  "language_info": {
   "codemirror_mode": {
    "name": "ipython",
    "version": 3
   },
   "file_extension": ".py",
   "mimetype": "text/x-python",
   "name": "python",
   "nbconvert_exporter": "python",
   "pygments_lexer": "ipython3",
   "version": "3.9.13"
  }
 },
 "nbformat": 4,
 "nbformat_minor": 5
}
