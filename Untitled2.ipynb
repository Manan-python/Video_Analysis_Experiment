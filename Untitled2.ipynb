{
 "cells": [
  {
   "cell_type": "code",
   "execution_count": 1,
   "id": "5de068b1",
   "metadata": {},
   "outputs": [],
   "source": [
    "x = 69.5\n",
    "y = 74.2\n",
    "z = (x+y)//2"
   ]
  },
  {
   "cell_type": "code",
   "execution_count": 2,
   "id": "c80410aa",
   "metadata": {},
   "outputs": [
    {
     "data": {
      "text/plain": [
       "71.0"
      ]
     },
     "execution_count": 2,
     "metadata": {},
     "output_type": "execute_result"
    }
   ],
   "source": [
    "z"
   ]
  },
  {
   "cell_type": "code",
   "execution_count": 9,
   "id": "de46d193",
   "metadata": {},
   "outputs": [
    {
     "name": "stdout",
     "output_type": "stream",
     "text": [
      "Enter the number of bits: 8192\n",
      "8192 b = 0 MB 1 KB 0 B 0 b\n"
     ]
    }
   ],
   "source": [
    "# Get input from user\n",
    "num_bits = int(input(\"Enter the number of bits: \"))\n",
    "\n",
    "# Convert to other units\n",
    "num_bytes = num_bits // 8\n",
    "num_kilobytes = num_bytes // 1024\n",
    "num_megabytes = num_kilobytes // 1024\n",
    "\n",
    "# Calculate remaining bits, bytes, and kilobytes\n",
    "remaining_bits = num_bits % 8\n",
    "remaining_bytes = num_bytes % 1024\n",
    "remaining_kilobytes = num_kilobytes % 1024\n",
    "\n",
    "# Print results\n",
    "print(f\"{num_bits} b = {num_megabytes} MB {remaining_kilobytes} KB {remaining_bytes} B {remaining_bits} b\")\n"
   ]
  },
  {
   "cell_type": "code",
   "execution_count": null,
   "id": "8bf1e2a4",
   "metadata": {},
   "outputs": [],
   "source": []
  }
 ],
 "metadata": {
  "kernelspec": {
   "display_name": "Python 3 (ipykernel)",
   "language": "python",
   "name": "python3"
  },
  "language_info": {
   "codemirror_mode": {
    "name": "ipython",
    "version": 3
   },
   "file_extension": ".py",
   "mimetype": "text/x-python",
   "name": "python",
   "nbconvert_exporter": "python",
   "pygments_lexer": "ipython3",
   "version": "3.9.13"
  }
 },
 "nbformat": 4,
 "nbformat_minor": 5
}
